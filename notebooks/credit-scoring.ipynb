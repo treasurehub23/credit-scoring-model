{
 "cells": [
  {
   "cell_type": "markdown",
   "id": "21a65e51",
   "metadata": {},
   "source": [
    "Importing libraries"
   ]
  },
  {
   "cell_type": "code",
   "execution_count": null,
   "id": "02a353e0",
   "metadata": {},
   "outputs": [],
   "source": [
    "import pandas as pd\n",
    "import numpy as np\n",
    "import matplotlib.pyplot as plt\n",
    "import seaborn as sn\n",
    "import sklearn"
   ]
  },
  {
   "cell_type": "markdown",
   "id": "1ee268ff",
   "metadata": {},
   "source": [
    "Loading dataset"
   ]
  },
  {
   "cell_type": "code",
   "execution_count": 8,
   "id": "0de29423",
   "metadata": {},
   "outputs": [
    {
     "name": "stderr",
     "output_type": "stream",
     "text": [
      "C:\\Users\\DELL\\AppData\\Local\\Temp\\ipykernel_8180\\956846293.py:1: DtypeWarning: Columns (26) have mixed types. Specify dtype option on import or set low_memory=False.\n",
      "  df = pd.read_csv(r\"C:\\Users\\DELL\\OneDrive\\Documents\\GitHub\\credit-scoring-model\\data\\train.csv\")\n"
     ]
    },
    {
     "data": {
      "text/plain": [
       "Index(['ID', 'Customer_ID', 'Month', 'Name', 'Age', 'SSN', 'Occupation',\n",
       "       'Annual_Income', 'Monthly_Inhand_Salary', 'Num_Bank_Accounts',\n",
       "       'Num_Credit_Card', 'Interest_Rate', 'Num_of_Loan', 'Type_of_Loan',\n",
       "       'Delay_from_due_date', 'Num_of_Delayed_Payment', 'Changed_Credit_Limit',\n",
       "       'Num_Credit_Inquiries', 'Credit_Mix', 'Outstanding_Debt',\n",
       "       'Credit_Utilization_Ratio', 'Credit_History_Age',\n",
       "       'Payment_of_Min_Amount', 'Total_EMI_per_month',\n",
       "       'Amount_invested_monthly', 'Payment_Behaviour', 'Monthly_Balance'],\n",
       "      dtype='object')"
      ]
     },
     "execution_count": 8,
     "metadata": {},
     "output_type": "execute_result"
    }
   ],
   "source": [
    "df = pd.read_csv(r\"C:\\Users\\DELL\\OneDrive\\Documents\\GitHub\\credit-scoring-model\\data\\train.csv\")\n",
    "df2 = pd.read_csv(r\"C:\\Users\\DELL\\OneDrive\\Documents\\GitHub\\credit-scoring-model\\data\\test.csv\")\n",
    "df2.columns"
   ]
  },
  {
   "cell_type": "code",
   "execution_count": 3,
   "id": "0c520661",
   "metadata": {},
   "outputs": [
    {
     "data": {
      "text/plain": [
       "(100000, 28)"
      ]
     },
     "execution_count": 3,
     "metadata": {},
     "output_type": "execute_result"
    }
   ],
   "source": [
    "df.shape"
   ]
  },
  {
   "cell_type": "markdown",
   "id": "107920a8",
   "metadata": {},
   "source": [
    "Exploratory data analysis"
   ]
  },
  {
   "cell_type": "code",
   "execution_count": 3,
   "id": "b6206626",
   "metadata": {},
   "outputs": [
    {
     "data": {
      "text/html": [
       "<div>\n",
       "<style scoped>\n",
       "    .dataframe tbody tr th:only-of-type {\n",
       "        vertical-align: middle;\n",
       "    }\n",
       "\n",
       "    .dataframe tbody tr th {\n",
       "        vertical-align: top;\n",
       "    }\n",
       "\n",
       "    .dataframe thead th {\n",
       "        text-align: right;\n",
       "    }\n",
       "</style>\n",
       "<table border=\"1\" class=\"dataframe\">\n",
       "  <thead>\n",
       "    <tr style=\"text-align: right;\">\n",
       "      <th></th>\n",
       "      <th>Monthly_Inhand_Salary</th>\n",
       "      <th>Num_Bank_Accounts</th>\n",
       "      <th>Num_Credit_Card</th>\n",
       "      <th>Interest_Rate</th>\n",
       "      <th>Delay_from_due_date</th>\n",
       "      <th>Num_Credit_Inquiries</th>\n",
       "      <th>Credit_Utilization_Ratio</th>\n",
       "      <th>Total_EMI_per_month</th>\n",
       "    </tr>\n",
       "  </thead>\n",
       "  <tbody>\n",
       "    <tr>\n",
       "      <th>count</th>\n",
       "      <td>84998.00</td>\n",
       "      <td>100000.00</td>\n",
       "      <td>100000.00</td>\n",
       "      <td>100000.00</td>\n",
       "      <td>100000.00</td>\n",
       "      <td>98035.00</td>\n",
       "      <td>100000.00</td>\n",
       "      <td>100000.00</td>\n",
       "    </tr>\n",
       "    <tr>\n",
       "      <th>mean</th>\n",
       "      <td>4194.17</td>\n",
       "      <td>17.09</td>\n",
       "      <td>22.47</td>\n",
       "      <td>72.47</td>\n",
       "      <td>21.07</td>\n",
       "      <td>27.75</td>\n",
       "      <td>32.29</td>\n",
       "      <td>1403.12</td>\n",
       "    </tr>\n",
       "    <tr>\n",
       "      <th>std</th>\n",
       "      <td>3183.69</td>\n",
       "      <td>117.40</td>\n",
       "      <td>129.06</td>\n",
       "      <td>466.42</td>\n",
       "      <td>14.86</td>\n",
       "      <td>193.18</td>\n",
       "      <td>5.12</td>\n",
       "      <td>8306.04</td>\n",
       "    </tr>\n",
       "    <tr>\n",
       "      <th>min</th>\n",
       "      <td>303.65</td>\n",
       "      <td>-1.00</td>\n",
       "      <td>0.00</td>\n",
       "      <td>1.00</td>\n",
       "      <td>-5.00</td>\n",
       "      <td>0.00</td>\n",
       "      <td>20.00</td>\n",
       "      <td>0.00</td>\n",
       "    </tr>\n",
       "    <tr>\n",
       "      <th>25%</th>\n",
       "      <td>1625.57</td>\n",
       "      <td>3.00</td>\n",
       "      <td>4.00</td>\n",
       "      <td>8.00</td>\n",
       "      <td>10.00</td>\n",
       "      <td>3.00</td>\n",
       "      <td>28.05</td>\n",
       "      <td>30.31</td>\n",
       "    </tr>\n",
       "    <tr>\n",
       "      <th>50%</th>\n",
       "      <td>3093.75</td>\n",
       "      <td>6.00</td>\n",
       "      <td>5.00</td>\n",
       "      <td>13.00</td>\n",
       "      <td>18.00</td>\n",
       "      <td>6.00</td>\n",
       "      <td>32.31</td>\n",
       "      <td>69.25</td>\n",
       "    </tr>\n",
       "    <tr>\n",
       "      <th>75%</th>\n",
       "      <td>5957.45</td>\n",
       "      <td>7.00</td>\n",
       "      <td>7.00</td>\n",
       "      <td>20.00</td>\n",
       "      <td>28.00</td>\n",
       "      <td>9.00</td>\n",
       "      <td>36.50</td>\n",
       "      <td>161.22</td>\n",
       "    </tr>\n",
       "    <tr>\n",
       "      <th>max</th>\n",
       "      <td>15204.63</td>\n",
       "      <td>1798.00</td>\n",
       "      <td>1499.00</td>\n",
       "      <td>5797.00</td>\n",
       "      <td>67.00</td>\n",
       "      <td>2597.00</td>\n",
       "      <td>50.00</td>\n",
       "      <td>82331.00</td>\n",
       "    </tr>\n",
       "  </tbody>\n",
       "</table>\n",
       "</div>"
      ],
      "text/plain": [
       "       Monthly_Inhand_Salary  Num_Bank_Accounts  Num_Credit_Card  \\\n",
       "count               84998.00          100000.00        100000.00   \n",
       "mean                 4194.17              17.09            22.47   \n",
       "std                  3183.69             117.40           129.06   \n",
       "min                   303.65              -1.00             0.00   \n",
       "25%                  1625.57               3.00             4.00   \n",
       "50%                  3093.75               6.00             5.00   \n",
       "75%                  5957.45               7.00             7.00   \n",
       "max                 15204.63            1798.00          1499.00   \n",
       "\n",
       "       Interest_Rate  Delay_from_due_date  Num_Credit_Inquiries  \\\n",
       "count      100000.00            100000.00              98035.00   \n",
       "mean           72.47                21.07                 27.75   \n",
       "std           466.42                14.86                193.18   \n",
       "min             1.00                -5.00                  0.00   \n",
       "25%             8.00                10.00                  3.00   \n",
       "50%            13.00                18.00                  6.00   \n",
       "75%            20.00                28.00                  9.00   \n",
       "max          5797.00                67.00               2597.00   \n",
       "\n",
       "       Credit_Utilization_Ratio  Total_EMI_per_month  \n",
       "count                 100000.00            100000.00  \n",
       "mean                      32.29              1403.12  \n",
       "std                        5.12              8306.04  \n",
       "min                       20.00                 0.00  \n",
       "25%                       28.05                30.31  \n",
       "50%                       32.31                69.25  \n",
       "75%                       36.50               161.22  \n",
       "max                       50.00             82331.00  "
      ]
     },
     "execution_count": 3,
     "metadata": {},
     "output_type": "execute_result"
    }
   ],
   "source": [
    "pd.set_option(\"display.float_format\", \"{:.2f}\".format)\n",
    "df.describe()"
   ]
  },
  {
   "cell_type": "code",
   "execution_count": 9,
   "id": "86bbe33a",
   "metadata": {},
   "outputs": [
    {
     "data": {
      "text/plain": [
       "Credit_Score\n",
       "Standard    53174\n",
       "Poor        28998\n",
       "Good        17828\n",
       "Name: count, dtype: int64"
      ]
     },
     "execution_count": 9,
     "metadata": {},
     "output_type": "execute_result"
    }
   ],
   "source": [
    "df[\"Credit_Score\"].value_counts()"
   ]
  },
  {
   "cell_type": "code",
   "execution_count": 10,
   "id": "36392495",
   "metadata": {},
   "outputs": [
    {
     "data": {
      "text/plain": [
       "Index(['ID', 'Customer_ID', 'Month', 'Name', 'Age', 'SSN', 'Occupation',\n",
       "       'Annual_Income', 'Num_of_Loan', 'Type_of_Loan',\n",
       "       'Num_of_Delayed_Payment', 'Changed_Credit_Limit', 'Credit_Mix',\n",
       "       'Outstanding_Debt', 'Credit_History_Age', 'Payment_of_Min_Amount',\n",
       "       'Amount_invested_monthly', 'Payment_Behaviour', 'Monthly_Balance',\n",
       "       'Credit_Score'],\n",
       "      dtype='object')"
      ]
     },
     "execution_count": 10,
     "metadata": {},
     "output_type": "execute_result"
    }
   ],
   "source": [
    "numeric = df.select_dtypes (include =[\"int64\", \"float64\"])\n",
    "categorical = df.select_dtypes(include = \"object\")\n",
    "numeric_columns = numeric.columns \n",
    "categoricaal_columns = categorical.columns\n",
    "categoricaal_columns"
   ]
  },
  {
   "cell_type": "markdown",
   "id": "03f06a37",
   "metadata": {},
   "source": [
    "Data cleaning and preprocessing"
   ]
  },
  {
   "cell_type": "code",
   "execution_count": null,
   "id": "8cc85b39",
   "metadata": {},
   "outputs": [],
   "source": [
    "df[[\"Annual_Income\", \"Num_of_Loan\", \"Num_of_Delayed_Payment\", \"Changed_Credit_Limit\", \"Age\", \"Outstanding_Debt\", \"Amount_invested_monthly\", \"Monthly_Balance\"]] = df[[\"Annual_Income\", \"Num_of_Loan\", \"Num_of_Delayed_Payment\", \"Changed_Credit_Limit\", \"Outstanding_Debt\", \"Age\", \"Amount_invested_monthly\", \"Monthly_Balance\"]].apply(pd.to_numeric, errors=\"coerce\")\n",
    "\n",
    "df['Age'] = df['Age'].fillna(df['Age'].median())\n",
    "df['Annual_Income'] = df['Annual_Income'].fillna(df['Annual_Income'].median())\n",
    "df['Monthly_Inhand_Salary'] = df['Monthly_Inhand_Salary'].fillna(df['Monthly_Inhand_Salary'].median())\n",
    "df['Num_of_Loan'] = df['Num_of_Loan'].fillna(df['Num_of_Loan'].median())\n",
    "df['Type_of_Loan'] = df['Type_of_Loan'].fillna('Unknown')\n",
    "df['Num_of_Delayed_Payment'] = df['Num_of_Delayed_Payment'].fillna(df['Num_of_Delayed_Payment'].median())\n",
    "df['Changed_Credit_Limit'] = df['Changed_Credit_Limit'].fillna(df['Changed_Credit_Limit'].median())\n",
    "df['Outstanding_Debt'] = df['Outstanding_Debt'].fillna(df['Outstanding_Debt'].median())\n",
    "df['Monthly_Balance'] = df['Monthly_Balance'].fillna(df['Monthly_Balance'].median())\n",
    "df['Amount_invested_monthly'] = df['Amount_invested_monthly'].fillna(df['Amount_invested_monthly'].median())\n",
    "df['Num_Credit_Inquiries'] = df['Num_Credit_Inquiries'].fillna(df['Num_Credit_Inquiries'].median())\n"
   ]
  },
  {
   "cell_type": "code",
   "execution_count": 12,
   "id": "aa52a5df",
   "metadata": {},
   "outputs": [
    {
     "data": {
      "text/plain": [
       "Type_of_Loan\n",
       "unknown                    11408\n",
       "credit-builder loan        10416\n",
       "payday loan                10248\n",
       "personal loan              10200\n",
       "not specified               9848\n",
       "student loan                9672\n",
       "debt consolidation loan     9648\n",
       "mortgage loan               9632\n",
       "auto loan                   9568\n",
       "home equity loan            9360\n",
       "Name: count, dtype: int64"
      ]
     },
     "execution_count": 12,
     "metadata": {},
     "output_type": "execute_result"
    }
   ],
   "source": [
    "df[\"Type_of_Loan\"] = df[\"Type_of_Loan\"].str.lower().str.strip()\n",
    "df[\"Type_of_Loan\"] = df[\"Type_of_Loan\"].str.split(\", |and\").str[0].str.strip()\n",
    "df[\"Type_of_Loan\"].value_counts()"
   ]
  },
  {
   "cell_type": "code",
   "execution_count": null,
   "id": "4487adc5",
   "metadata": {},
   "outputs": [
    {
     "data": {
      "text/plain": [
       "(12500, 19)"
      ]
     },
     "execution_count": 13,
     "metadata": {},
     "output_type": "execute_result"
    }
   ],
   "source": [
    "df = df.sort_values(by=\"Credit_History_Age\")\n",
    "\n",
    "\n",
    "df = df.drop_duplicates(subset=\"Customer_ID\", keep =\"last\")\n",
    "\n",
    "df = df.drop([\"ID\", \"Customer_ID\", \"Name\", \"SSN\", \"Credit_History_Age\", \"Month\", \"Occupation\", \"Type_of_Loan\", 'Payment_Behaviour'], axis = 1 )\n",
    "df.shape"
   ]
  },
  {
   "cell_type": "code",
   "execution_count": null,
   "id": "fe5a9cd1",
   "metadata": {},
   "outputs": [],
   "source": [
    "\n",
    "\n",
    "\n",
    "df = pd.get_dummies(df, columns=['Credit_Mix','Payment_of_Min_Amount'], drop_first = True)\n",
    "print(df.shape)\n",
    "\n",
    "df[\"target\"] = df[\"Credit_Score\"].map({\"Standard\": 0, \"Poor\":1, \"Good\":2})\n",
    "df.columns\n",
    "\n",
    "X = df.drop([\"target\", \"Credit_Score\"], axis =1)\n",
    "y = df[\"target\"]"
   ]
  },
  {
   "cell_type": "code",
   "execution_count": 10,
   "id": "400b2578",
   "metadata": {},
   "outputs": [],
   "source": [
    "from imblearn.over_sampling import SMOTE\n",
    "from sklearn.model_selection import train_test_split\n",
    "sm=SMOTE(random_state =3)\n",
    "X_res, y_res = sm.fit_resample(X, y)\n",
    "\n",
    "X_train, X_valid, y_train, y_valid = train_test_split(X_res, y_res, test_size=0.2, stratify = y_res)"
   ]
  },
  {
   "cell_type": "code",
   "execution_count": 11,
   "id": "6a1e1f4e",
   "metadata": {},
   "outputs": [],
   "source": [
    "from sklearn.preprocessing import StandardScaler\n",
    "scaler = StandardScaler()\n",
    "\n",
    "X_train_scaled = scaler.fit_transform(X_train)\n",
    "X_valid_scaled = scaler.transform(X_valid)\n",
    " "
   ]
  },
  {
   "cell_type": "code",
   "execution_count": null,
   "id": "cf192fa9",
   "metadata": {},
   "outputs": [
    {
     "data": {
      "text/plain": [
       "0.6767934643860097"
      ]
     },
     "execution_count": 64,
     "metadata": {},
     "output_type": "execute_result"
    }
   ],
   "source": [
    "# from sklearn.linear_model import LogisticRegression\n",
    "\n",
    "# model = LogisticRegression(random_state=3, class_weight=\"balanced\")\n",
    "\n",
    "\n",
    "# model.fit(X_train_scaled, y_train)\n",
    "# model.score(X_valid_scaled, y_valid)"
   ]
  },
  {
   "cell_type": "code",
   "execution_count": 65,
   "id": "71e532f4",
   "metadata": {},
   "outputs": [],
   "source": [
    "# from sklearn.metrics import classification_report\n",
    "# y_Pred = model.predict(X_valid)\n",
    "# report = classification_report(y_valid, y_Pred, zero_division=\"warn\")\n",
    "# print(report)"
   ]
  },
  {
   "cell_type": "code",
   "execution_count": 12,
   "id": "c0694f5e",
   "metadata": {},
   "outputs": [
    {
     "data": {
      "text/plain": [
       "0.7610416134797039"
      ]
     },
     "execution_count": 12,
     "metadata": {},
     "output_type": "execute_result"
    }
   ],
   "source": [
    "from sklearn.ensemble import RandomForestClassifier\n",
    "rf = RandomForestClassifier(max_depth= 30, min_samples_split= 2, n_estimators =500, random_state=42)\n",
    "rf.fit(X_train_scaled, y_train)\n",
    "rf.score(X_valid_scaled, y_valid)"
   ]
  },
  {
   "cell_type": "code",
   "execution_count": 13,
   "id": "e7ac45d5",
   "metadata": {},
   "outputs": [
    {
     "name": "stdout",
     "output_type": "stream",
     "text": [
      "Model and scaler saved\n"
     ]
    }
   ],
   "source": [
    "import joblib\n",
    "\n",
    "joblib.dump(rf, '../models/credit_scoring_rf_v1.pkl')\n",
    "joblib.dump(scaler, '../models/credit_scoring_scaler.pkl')\n",
    "print(\"Model and scaler saved\")"
   ]
  },
  {
   "cell_type": "code",
   "execution_count": 14,
   "id": "a324db4a",
   "metadata": {},
   "outputs": [
    {
     "name": "stdout",
     "output_type": "stream",
     "text": [
      "              precision    recall  f1-score   support\n",
      "\n",
      "           0       0.73      0.65      0.69      1306\n",
      "           1       0.79      0.76      0.78      1306\n",
      "           2       0.76      0.88      0.81      1305\n",
      "\n",
      "    accuracy                           0.76      3917\n",
      "   macro avg       0.76      0.76      0.76      3917\n",
      "weighted avg       0.76      0.76      0.76      3917\n",
      "\n"
     ]
    }
   ],
   "source": [
    "from sklearn.metrics import classification_report, confusion_matrix                             \n",
    "y_Pred = rf.predict(X_valid_scaled)\n",
    "report = classification_report(y_valid, y_Pred, zero_division=\"warn\")\n",
    "print(report)"
   ]
  },
  {
   "cell_type": "code",
   "execution_count": 15,
   "id": "839d5ac7",
   "metadata": {},
   "outputs": [
    {
     "data": {
      "image/png": "[encoded data removed]",
      "text/plain": [
       "<Figure size 640x480 with 2 Axes>"
      ]
     },
     "metadata": {},
     "output_type": "display_data"
    }
   ],
   "source": [
    "import seaborn as sn\n",
    "cm=confusion_matrix(y_valid, y_Pred)\n",
    "sn.heatmap(cm, annot=True, fmt=\"d\")\n",
    "plt.xlabel(\"Predicted\")                                     \n",
    "plt.ylabel(\"True\")\n",
    "plt.savefig('../results/confusion_matrix.png', dpi=300, bbox_inches='tight')\n",
    "plt.show()"
   ]
  },
  {
   "cell_type": "code",
   "execution_count": null,
   "id": "6192c016",
   "metadata": {},
   "outputs": [],
   "source": [
    "# from xgboost import XGBClassifier\n",
    "# xgb = XGBClassifier(random_state =3, eval_loss =\"mlogloss\",)\n",
    "# xgb.fit(X_train_scaled, y_train)\n",
    "# y_pred_xgb = xgb.predict(X_valid_scaled)\n",
    "# print(classification_report(y_valid,y_pred_xgb ))\n",
    "# xgb.score(X_valid_scaled, y_valid)"
   ]
  },
  {
   "cell_type": "code",
   "execution_count": null,
   "id": "64b8ac23",
   "metadata": {},
   "outputs": [
    {
     "name": "stdout",
     "output_type": "stream",
     "text": [
      "              precision    recall  f1-score   support\n",
      "\n",
      "           0       0.67      0.65      0.66      1306\n",
      "           1       0.77      0.71      0.74      1305\n",
      "           2       0.74      0.83      0.78      1306\n",
      "\n",
      "    accuracy                           0.73      3917\n",
      "   macro avg       0.73      0.73      0.73      3917\n",
      "weighted avg       0.73      0.73      0.73      3917\n",
      "\n"
     ]
    }
   ],
   "source": [
    "# from sklearn.ensemble import GradientBoostingClassifier\n",
    "\n",
    "# gb= GradientBoostingClassifier(random_state =3)\n",
    "# gb.fit(X_train_scaled, y_train)\n",
    "# y_pred_gb = gb.predict(X_valid_scaled)\n",
    "# print(classification_report(y_valid,y_pred_gb ))\n",
    "#gb.score(X_valid_scaled, y_valid)"
   ]
  },
  {
   "cell_type": "code",
   "execution_count": 69,
   "id": "b354d146",
   "metadata": {},
   "outputs": [],
   "source": [
    "# from sklearn.svm import SVC\n",
    "# svm = SVC()\n",
    "# svm.fit(X_train_scaled, y_train)\n",
    "# svm.score(X_valid_scaled, y_valid)"
   ]
  },
  {
   "cell_type": "code",
   "execution_count": 17,
   "id": "d31a2bab",
   "metadata": {},
   "outputs": [
    {
     "data": {
      "text/plain": [
       "Age                         0.11\n",
       "Interest_Rate               0.08\n",
       "Credit_Mix_Good             0.07\n",
       "Delay_from_due_date         0.06\n",
       "Num_Credit_Inquiries        0.06\n",
       "Changed_Credit_Limit        0.05\n",
       "Payment_of_Min_Amount_No    0.05\n",
       "Num_of_Delayed_Payment      0.05\n",
       "Total_EMI_per_month         0.05\n",
       "Monthly_Balance             0.05\n",
       "Annual_Income               0.04\n",
       "Credit_Utilization_Ratio    0.04\n",
       "Amount_invested_monthly     0.04\n",
       "Monthly_Inhand_Salary       0.04\n",
       "Num_Credit_Card             0.04\n",
       "Outstanding_Debt            0.04\n",
       "Num_of_Loan                 0.04\n",
       "Num_Bank_Accounts           0.04\n",
       "Payment_of_Min_Amount_Yes   0.02\n",
       "Credit_Mix__                0.02\n",
       "Credit_Mix_Standard         0.01\n",
       "dtype: float64"
      ]
     },
     "execution_count": 17,
     "metadata": {},
     "output_type": "execute_result"
    }
   ],
   "source": [
    "importances = pd.Series(rf.feature_importances_, index=X_train.columns)\n",
    "importances = importances.sort_values(ascending = False )\n",
    "importances"
   ]
  },
  {
   "cell_type": "code",
   "execution_count": 18,
   "id": "6d1a87e0",
   "metadata": {},
   "outputs": [
    {
     "data": {
      "image/png": "[encoded data removed]",
      "text/plain": [
       "<Figure size 1000x800 with 1 Axes>"
      ]
     },
     "metadata": {},
     "output_type": "display_data"
    }
   ],
   "source": [
    "plt.figure(figsize=(10, 8))\n",
    "plt.barh(range(len(importances)), importances.values)\n",
    "plt.yticks(range(len(importances)), importances.index)\n",
    "plt.xlabel('Importance')\n",
    "plt.title('Feature Importance - Credit Scoring Model')\n",
    "plt.tight_layout()\n",
    "plt.savefig('../results/feature_importance.png', dpi=300, bbox_inches='tight')\n",
    "plt.show()\n",
    "\n"
   ]
  }
 ],
 "metadata": {
  "kernelspec": {
   "display_name": "env",
   "language": "python",
   "name": "python3"
  },
  "language_info": {
   "codemirror_mode": {
    "name": "ipython",
    "version": 3
   },
   "file_extension": ".py",
   "mimetype": "text/x-python",
   "name": "python",
   "nbconvert_exporter": "python",
   "pygments_lexer": "ipython3",
   "version": "3.12.10"
  }
 },
 "nbformat": 4,
 "nbformat_minor": 5
}
